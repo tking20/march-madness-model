{
  "cells": [
    {
      "cell_type": "markdown",
      "metadata": {
        "id": "view-in-github",
        "colab_type": "text"
      },
      "source": [
        "<a href=\"https://colab.research.google.com/github/tking20/march-madness-model/blob/main/2024_March_Madness_Model.ipynb\" target=\"_parent\"><img src=\"https://colab.research.google.com/assets/colab-badge.svg\" alt=\"Open In Colab\"/></a>"
      ]
    },
    {
      "cell_type": "markdown",
      "source": [
        "#Library Imports & Google Drive set-up"
      ],
      "metadata": {
        "id": "3WwHKoTNDysl"
      }
    },
    {
      "cell_type": "markdown",
      "source": [
        "The data sets used for this project come from www.kaggle.com\n",
        "\n",
        "Their yearly \"March Mania\" competitions provide updated data sets at no cost"
      ],
      "metadata": {
        "id": "ZRgEBDsYRKyc"
      }
    },
    {
      "cell_type": "code",
      "execution_count": null,
      "metadata": {
        "id": "HKUBwV8VnCbY"
      },
      "outputs": [],
      "source": [
        "import pandas as pd\n",
        "import csv\n",
        "from google.colab import drive\n",
        "from sklearn.svm import LinearSVC\n",
        "from sklearn.neighbors import KNeighborsClassifier\n",
        "from sklearn import preprocessing\n",
        "from sklearn.svm import SVC\n",
        "from sklearn import svm\n",
        "from sklearn.ensemble import BaggingClassifier\n",
        "from sklearn.ensemble import RandomForestClassifier\n",
        "from xgboost import XGBClassifier\n",
        "from sklearn.metrics import accuracy_score\n",
        "\n",
        "drive.mount('/content/gdrive')\n",
        "\n",
        "\n",
        "\n",
        "start_year = 1985\n",
        "end_year = 2024\n",
        "max_team = 3479\n",
        "\n",
        "file_path = '/content/gdrive/MyDrive/March Madness 2024/'"
      ]
    },
    {
      "cell_type": "markdown",
      "source": [
        "#ELO Model"
      ],
      "metadata": {
        "id": "14ox2p37RkTb"
      }
    },
    {
      "cell_type": "markdown",
      "source": [
        "##For a given game, update the ELO ratings of the two schools"
      ],
      "metadata": {
        "id": "LxIYDFs-SXFc"
      }
    },
    {
      "cell_type": "code",
      "execution_count": null,
      "metadata": {
        "id": "uZozIZNjnI30"
      },
      "outputs": [],
      "source": [
        "def process_elos(df_games, elo, i):\n",
        "  team1 = df_games.loc[i, 'WTeamID']\n",
        "  team2 = df_games.loc[i, 'LTeamID']\n",
        "\n",
        "  w_elo = elo[team1-3101] + 0\n",
        "  l_elo = elo[team2-3101] + 0\n",
        "\n",
        "  #adjust for home-court advantage, if not at neutral site\n",
        "  if df_games.loc[i, 'WLoc'] == 'H':\n",
        "    w_elo = w_elo+HCA\n",
        "  if df_games.loc[i, 'WLoc'] == 'A':\n",
        "    l_elo = l_elo+HCA\n",
        "\n",
        "  mov = df_games.loc[i, 'WScore'] - df_games.loc[i, 'LScore']\n",
        "  k = multiplier*((mov + offset)**pow)/(a + b*(w_elo-l_elo))\n",
        "  #k = 3.511\n",
        "\n",
        "  e_w = 1/(1 + 10**((l_elo-w_elo)/400))\n",
        "  e_l = 1/(1 + 10**((w_elo-l_elo)/400))\n",
        "\n",
        "  #revert HCA away\n",
        "  if df_games.loc[i, 'WLoc'] == 'H':\n",
        "    w_elo = w_elo-HCA\n",
        "  if df_games.loc[i, 'WLoc'] == 'A':\n",
        "    l_elo = l_elo-HCA\n",
        "\n",
        "  w_change = k*(1-e_w)\n",
        "  w_elo = w_elo + w_change\n",
        "\n",
        "  l_change = k*(-e_l)\n",
        "  l_elo = l_elo + l_change\n",
        "\n",
        "  elo[team1-3101] = w_elo + 0\n",
        "  elo[team2-3101] = l_elo + 0"
      ]
    },
    {
      "cell_type": "markdown",
      "source": [
        "##Read in tournament seeds from file"
      ],
      "metadata": {
        "id": "D5UQ3O7LSF2d"
      }
    },
    {
      "cell_type": "code",
      "execution_count": null,
      "metadata": {
        "id": "WjK56XFQnLB1"
      },
      "outputs": [],
      "source": [
        "df_seeds = pd.read_csv(file_path + 'WNCAATourneySeeds.csv')\n",
        "seeds = []\n",
        "for year in range(start_year, end_year+1):\n",
        "  seeds.append({})\n",
        "\n",
        "for row in df_seeds.itertuples():\n",
        "  year = row[1]\n",
        "  seed = int(''.join(c for c in row[2] if c.isdigit()))\n",
        "  team = int(row[3])\n",
        "  seeds[year-start_year].update({team : seed})"
      ]
    },
    {
      "cell_type": "markdown",
      "source": [
        "##Process game results by season and compile ELO ratings"
      ],
      "metadata": {
        "id": "0qfXbmydSL_0"
      }
    },
    {
      "cell_type": "code",
      "execution_count": null,
      "metadata": {
        "id": "4Ui2AHuDnMrx"
      },
      "outputs": [],
      "source": [
        "multiplier = 500\n",
        "offset = 0.5\n",
        "pow = 0.8\n",
        "a = 116\n",
        "b = 0.001\n",
        "HCA = 4\n",
        "average_elo = 1000\n",
        "simplifier = 0.9\n",
        "\n",
        "elo = []\n",
        "for team in range(3101, max_team):\n",
        "  elo.append(average_elo)\n",
        "\n",
        "df_games = pd.read_csv(file_path + 'WRegularSeasonDetailedResults.csv')\n",
        "df_tourney_games = pd.read_csv(file_path + 'WNCAATourneyCompactResults.csv')\n",
        "current_season = 2003\n",
        "\n",
        "for i in range(len(df_games.index)):\n",
        "  year = df_games.loc[i, 'Season']\n",
        "  #covid\n",
        "  if year == 2020:\n",
        "    continue\n",
        "\n",
        "  #if new season\n",
        "  if year > current_season:\n",
        "\n",
        "    with open('elo_by_year.csv', 'a') as csv_file:\n",
        "      csvwriter = csv.writer(csv_file)\n",
        "      if current_season == 2003:\n",
        "        csvwriter.writerow(['Season', 'Team', 'Elo'])\n",
        "      team_id = 3101\n",
        "      for rating in elo:\n",
        "        csvwriter.writerow([current_season, team_id, rating])\n",
        "        team_id = team_id+1\n",
        "\n",
        "    #reset season statistics\n",
        "    current_season = year\n",
        "\n",
        "    for i in range(len(elo)):\n",
        "      elo[i] = simplifier*elo[i] + (1-simplifier)*average_elo\n",
        "\n",
        "  #otherwise, update Elos\n",
        "  process_elos(df_games, elo, i)\n",
        "\n",
        "#complete file by writing present year\n",
        "with open('elo_by_year.csv', 'a') as csv_file:\n",
        "  csvwriter = csv.writer(csv_file)\n",
        "  team_id = 3101\n",
        "  for rating in elo:\n",
        "    csvwriter.writerow([2024, team_id, rating])\n",
        "    team_id = team_id+1"
      ]
    },
    {
      "cell_type": "markdown",
      "source": [
        "#Setup R environment"
      ],
      "metadata": {
        "id": "4zKkiD8jSZes"
      }
    },
    {
      "cell_type": "markdown",
      "metadata": {
        "id": "guEzZludalSQ"
      },
      "source": [
        "##Enable rpy2 for using R in python"
      ]
    },
    {
      "cell_type": "code",
      "execution_count": null,
      "metadata": {
        "id": "EJ_fcETGXpZg"
      },
      "outputs": [],
      "source": [
        "%load_ext rpy2.ipython"
      ]
    },
    {
      "cell_type": "markdown",
      "metadata": {
        "id": "t8T2hvIfaof9"
      },
      "source": [
        "##Set the R logger to only display errors (this eliminates the wall of warnings)"
      ]
    },
    {
      "cell_type": "code",
      "execution_count": null,
      "metadata": {
        "id": "0ahJCagmakpl"
      },
      "outputs": [],
      "source": [
        "from rpy2.rinterface_lib.callbacks import logger as rpy2_logger\n",
        "import logging\n",
        "rpy2_logger.setLevel(logging.ERROR)   # will display errors, but not warnings"
      ]
    },
    {
      "cell_type": "markdown",
      "metadata": {
        "id": "3-38v-KnawMc"
      },
      "source": [
        "##Install the `xgboost` and `lme4` R packages"
      ]
    },
    {
      "cell_type": "code",
      "execution_count": null,
      "metadata": {
        "id": "fdkoIXo_YXmv"
      },
      "outputs": [],
      "source": [
        "%%R\n",
        "install.packages(\"xgboost\")"
      ]
    },
    {
      "cell_type": "code",
      "execution_count": null,
      "metadata": {
        "id": "520hQGNMj_LC"
      },
      "outputs": [],
      "source": [
        "%%R\n",
        "install.packages(\"lme4\")"
      ]
    },
    {
      "cell_type": "markdown",
      "metadata": {
        "id": "KTDKtfOJay_Q"
      },
      "source": [
        "#Implement the 2018 Raddar solution, combining his model with ELO ratings"
      ]
    },
    {
      "cell_type": "markdown",
      "source": [
        "##The Raddar solution can be found here: https://github.com/fakyras/ncaa_women_2018/blob/master/win_ncaa.R"
      ],
      "metadata": {
        "id": "qGsF0AIRSxz0"
      }
    },
    {
      "cell_type": "code",
      "execution_count": null,
      "metadata": {
        "id": "WUSAyzznX93j"
      },
      "outputs": [],
      "source": [
        "%%R\n",
        "library(dplyr)\n",
        "library(xgboost)\n",
        "library(lme4)\n",
        "\n",
        "regresults <- read.csv(\"./gdrive/MyDrive/March Madness 2024/WRegularSeasonDetailedResults.csv\")\n",
        "results <- read.csv(\"./gdrive/MyDrive/March Madness 2024/WNCAATourneyDetailedResults.csv\")\n",
        "sub <- read.csv(\"WSampleSubmissionStage2.csv\")\n",
        "seeds <- read.csv(\"./gdrive/MyDrive/March Madness 2024/WNCAATourneySeeds.csv\")\n",
        "elo <- read.csv('elo_by_year.csv')\n",
        "\n",
        "seeds$Seed = as.numeric(substring(seeds$Seed,2,4))\n",
        "\n",
        "\n",
        "### Collect regular season results - double the data by swapping team positions\n",
        "\n",
        "r1 = regresults[, c(\"Season\", \"DayNum\", \"WTeamID\", \"WScore\", \"LTeamID\", \"LScore\", \"NumOT\", \"WFGA\", \"WAst\", \"WBlk\", \"LFGA\", \"LAst\", \"LBlk\")]\n",
        "r2 = regresults[, c(\"Season\", \"DayNum\", \"LTeamID\", \"LScore\", \"WTeamID\", \"WScore\", \"NumOT\", \"LFGA\", \"LAst\", \"LBlk\", \"WFGA\", \"WAst\", \"WBlk\")]\n",
        "names(r1) = c(\"Season\", \"DayNum\", \"T1\", \"T1_Points\", \"T2\", \"T2_Points\", \"NumOT\", \"T1_fga\", \"T1_ast\", \"T1_blk\", \"T2_fga\", \"T2_ast\", \"T2_blk\")\n",
        "names(r2) = c(\"Season\", \"DayNum\", \"T1\", \"T1_Points\", \"T2\", \"T2_Points\", \"NumOT\", \"T1_fga\", \"T1_ast\", \"T1_blk\", \"T2_fga\", \"T2_ast\", \"T2_blk\")\n",
        "regular_season = rbind(r1, r2)\n",
        "\n",
        "\n",
        "### Collect tourney results - double the data by swapping team positions\n",
        "\n",
        "t1 = results[, c(\"Season\", \"DayNum\", \"WTeamID\", \"LTeamID\", \"WScore\", \"LScore\")] %>% mutate(ResultDiff = WScore - LScore)\n",
        "t2 = results[, c(\"Season\", \"DayNum\", \"LTeamID\", \"WTeamID\", \"LScore\", \"WScore\")] %>% mutate(ResultDiff = LScore - WScore)\n",
        "names(t1) = c(\"Season\", \"DayNum\", \"T1\", \"T2\", \"T1_Points\", \"T2_Points\", \"ResultDiff\")\n",
        "names(t2) = c(\"Season\", \"DayNum\", \"T1\", \"T2\", \"T1_Points\", \"T2_Points\", \"ResultDiff\")\n",
        "tourney = rbind(t1, t2)\n",
        "\n",
        "\n",
        "### Fit GLMM on regular season data (selected march madness teams only) - extract random effects for each team\n",
        "\n",
        "march_teams = select(seeds, Season, Team = TeamID)\n",
        "X =  regular_season %>%\n",
        "  inner_join(march_teams, by = c(\"Season\" = \"Season\", \"T1\" = \"Team\")) %>%\n",
        "  inner_join(march_teams, by = c(\"Season\" = \"Season\", \"T2\" = \"Team\")) %>%\n",
        "  select(Season, T1, T2, T1_Points, T2_Points, NumOT) %>% distinct()\n",
        "X$T1 = as.factor(X$T1)\n",
        "X$T2 = as.factor(X$T2)\n",
        "\n",
        "quality = list()\n",
        "for (season in unique(X$Season)) {\n",
        "  glmm = glmer(I(T1_Points > T2_Points) ~  (1 | T1) + (1 | T2), data = X[X$Season == season & X$NumOT == 0, ], family = binomial)\n",
        "  random_effects = ranef(glmm)$T1\n",
        "  quality[[season]] = data.frame(Season = season, Team_Id = as.numeric(row.names(random_effects)), quality = exp(random_effects[,\"(Intercept)\"]))\n",
        "}\n",
        "quality = do.call(rbind, quality)\n",
        "\n",
        "\n",
        "### Regular season statistics\n",
        "\n",
        "season_summary =\n",
        "  regular_season %>%\n",
        "  mutate(win14days = ifelse(DayNum > 118 & T1_Points > T2_Points, 1, 0),\n",
        "         last14days = ifelse(DayNum > 118, 1, 0)) %>%\n",
        "  group_by(Season, T1) %>%\n",
        "  summarize(\n",
        "    WinRatio14d = sum(win14days) / sum(last14days),\n",
        "    PointsMean = mean(T1_Points),\n",
        "    PointsMedian = median(T1_Points),\n",
        "    PointsDiffMean = mean(T1_Points - T2_Points),\n",
        "    FgaMean = mean(T1_fga),\n",
        "    FgaMedian = median(T1_fga),\n",
        "    FgaMin = min(T1_fga),\n",
        "    FgaMax = max(T1_fga),\n",
        "    AstMean = mean(T1_ast),\n",
        "    BlkMean = mean(T1_blk),\n",
        "    OppFgaMean = mean(T2_fga),\n",
        "    OppFgaMin = min(T2_fga)\n",
        "  )\n",
        "\n",
        "season_summary <- season_summary %>%\n",
        "left_join(select(elo, Season, Team, Elo), by = c(\"Season\" = \"Season\", \"T1\" = \"Team\")) %>%\n",
        "rename(Elo = Elo)\n",
        "\n",
        "season_summary_X1 = season_summary\n",
        "season_summary_X2 = season_summary\n",
        "names(season_summary_X1) = c(\"Season\", \"T1\", paste0(\"X1_\",names(season_summary_X1)[-c(1,2)]))\n",
        "names(season_summary_X2) = c(\"Season\", \"T2\", paste0(\"X2_\",names(season_summary_X2)[-c(1,2)]))\n",
        "\n",
        "\n",
        "### Combine all features into a data frame\n",
        "\n",
        "data_matrix =\n",
        "  tourney %>%\n",
        "  left_join(season_summary_X1, by = c(\"Season\", \"T1\")) %>%\n",
        "  left_join(season_summary_X2, by = c(\"Season\", \"T2\")) %>%\n",
        "  left_join(select(seeds, Season, T1 = TeamID, Seed1 = Seed), by = c(\"Season\", \"T1\")) %>%\n",
        "  left_join(select(seeds, Season, T2 = TeamID, Seed2 = Seed), by = c(\"Season\", \"T2\")) %>%\n",
        "  mutate(SeedDiff = Seed1 - Seed2) %>%\n",
        "  left_join(select(quality, Season, T1 = Team_Id, quality_march_T1 = quality), by = c(\"Season\", \"T1\")) %>%\n",
        "  left_join(select(quality, Season, T2 = Team_Id, quality_march_T2 = quality), by = c(\"Season\", \"T2\"))\n",
        "\n",
        "\n",
        "### Prepare xgboost\n",
        "\n",
        "features = setdiff(names(data_matrix), c(\"Season\", \"DayNum\", \"T1\", \"T2\", \"T1_Points\", \"T2_Points\", \"ResultDiff\"))\n",
        "dtrain = xgb.DMatrix(as.matrix(data_matrix[, features]), label = data_matrix$ResultDiff)\n",
        "\n",
        "cauchyobj <- function(preds, dtrain) {\n",
        "  labels <- getinfo(dtrain, \"label\")\n",
        "  c <- 5000\n",
        "  x <-  preds-labels\n",
        "  grad <- x / (x^2/c^2+1)\n",
        "  hess <- -c^2*(x^2-c^2)/(x^2+c^2)^2\n",
        "  return(list(grad = grad, hess = hess))\n",
        "}\n",
        "\n",
        "xgb_parameters =\n",
        "  list(objective = cauchyobj,\n",
        "       eval_metric = \"mae\",\n",
        "       booster = \"gbtree\",\n",
        "       eta = 0.02,\n",
        "       subsample = 0.35,\n",
        "       colsample_bytree = 0.7,\n",
        "       num_parallel_tree = 10,\n",
        "       min_child_weight = 40,\n",
        "       gamma = 10,\n",
        "       max_depth = 3)\n",
        "\n",
        "N = nrow(data_matrix)\n",
        "fold5list = c(\n",
        "  rep( 1, floor(N/5) ),\n",
        "  rep( 2, floor(N/5) ),\n",
        "  rep( 3, floor(N/5) ),\n",
        "  rep( 4, floor(N/5) ),\n",
        "  rep( 5, N - 4*floor(N/5) )\n",
        ")\n",
        "\n",
        "\n",
        "### Build cross-validation model, repeated 10-times\n",
        "\n",
        "iteration_count = c()\n",
        "smooth_model = list()\n",
        "\n",
        "for (i in 1:10) {\n",
        "\n",
        "  ### Resample fold split\n",
        "  set.seed(i)\n",
        "  folds = list()\n",
        "  fold_list = sample(fold5list)\n",
        "  for (k in 1:5) folds[[k]] = which(fold_list == k)\n",
        "\n",
        "  set.seed(120)\n",
        "  xgb_cv =\n",
        "    xgb.cv(\n",
        "      params = xgb_parameters,\n",
        "      data = dtrain,\n",
        "      nrounds = 3000,\n",
        "      verbose = 0,\n",
        "      nthread = 12,\n",
        "      folds = folds,\n",
        "      early_stopping_rounds = 25,\n",
        "      maximize = FALSE,\n",
        "      prediction = TRUE\n",
        "    )\n",
        "  iteration_count = c(iteration_count, xgb_cv$best_iteration)\n",
        "\n",
        "  ### Fit a smoothed GAM model on predicted result point differential to get probabilities\n",
        "  smooth_model[[i]] = smooth.spline(x = xgb_cv$pred, y = ifelse(data_matrix$ResultDiff > 0, 1, 0))\n",
        "\n",
        "}\n",
        "\n",
        "\n",
        "### Build submission models\n",
        "\n",
        "submission_model = list()\n",
        "\n",
        "for (i in 1:10) {\n",
        "  set.seed(i)\n",
        "  submission_model[[i]] =\n",
        "    xgb.train(\n",
        "      params = xgb_parameters,\n",
        "      data = dtrain,\n",
        "      nrounds = round(iteration_count[i]*1.05),\n",
        "      verbose = 0,\n",
        "      nthread = 12,\n",
        "      maximize = FALSE,\n",
        "      prediction = TRUE\n",
        "    )\n",
        "}\n",
        "\n",
        "\n",
        "### Run predictions\n",
        "\n",
        "sub$Season = 2024\n",
        "sub$T1 = as.numeric(substring(sub$ID,6,9))\n",
        "sub$T2 = as.numeric(substring(sub$ID,11,14))\n",
        "\n",
        "Z = sub %>%\n",
        "  left_join(season_summary_X1, by = c(\"Season\", \"T1\")) %>%\n",
        "  left_join(season_summary_X2, by = c(\"Season\", \"T2\")) %>%\n",
        "  left_join(select(seeds, Season, T1 = TeamID, Seed1 = Seed), by = c(\"Season\", \"T1\")) %>%\n",
        "  left_join(select(seeds, Season, T2 = TeamID, Seed2 = Seed), by = c(\"Season\", \"T2\")) %>%\n",
        "  mutate(SeedDiff = Seed1 - Seed2) %>%\n",
        "  left_join(select(quality, Season, T1 = Team_Id, quality_march_T1 = quality), by = c(\"Season\", \"T1\")) %>%\n",
        "  left_join(select(quality, Season, T2 = Team_Id, quality_march_T2 = quality), by = c(\"Season\", \"T2\"))\n",
        "\n",
        "dtest = xgb.DMatrix(as.matrix(Z[, features]))\n",
        "\n",
        "probs = list()\n",
        "for (i in 1:10) {\n",
        "  preds = predict(submission_model[[i]], dtest)\n",
        "  probs[[i]] = predict(smooth_model[[i]], preds)$y\n",
        "}\n",
        "Z$Pred = Reduce(\"+\", probs) / 10\n",
        "\n",
        "write.csv(select(Z, ID, Pred), \"sub.csv\", row.names = FALSE)\n"
      ]
    }
  ],
  "metadata": {
    "colab": {
      "provenance": [],
      "gpuType": "T4",
      "collapsed_sections": [
        "3WwHKoTNDysl",
        "14ox2p37RkTb",
        "LxIYDFs-SXFc",
        "D5UQ3O7LSF2d",
        "0qfXbmydSL_0",
        "4zKkiD8jSZes",
        "guEzZludalSQ",
        "t8T2hvIfaof9",
        "3-38v-KnawMc",
        "KTDKtfOJay_Q",
        "qGsF0AIRSxz0"
      ],
      "toc_visible": true,
      "authorship_tag": "ABX9TyNVT45Hc8CqAyauhu4kXPZH",
      "include_colab_link": true
    },
    "kernelspec": {
      "display_name": "Python 3",
      "name": "python3"
    },
    "language_info": {
      "name": "python"
    },
    "accelerator": "GPU"
  },
  "nbformat": 4,
  "nbformat_minor": 0
}